{
 "metadata": {
  "language_info": {
   "codemirror_mode": {
    "name": "ipython",
    "version": 3
   },
   "file_extension": ".py",
   "mimetype": "text/x-python",
   "name": "python",
   "nbconvert_exporter": "python",
   "pygments_lexer": "ipython3",
   "version": "3.8.2-final"
  },
  "orig_nbformat": 2,
  "kernelspec": {
   "name": "Python 3.8.2 64-bit ('venv': venv)",
   "display_name": "Python 3.8.2 64-bit ('venv': venv)",
   "metadata": {
    "interpreter": {
     "hash": "6704a13a11f20111acd916d3e024303c69ba0f7542ff959e77e5fa0d802aa562"
    }
   }
  }
 },
 "nbformat": 4,
 "nbformat_minor": 2,
 "cells": [
  {
   "cell_type": "code",
   "execution_count": null,
   "metadata": {},
   "outputs": [],
   "source": [
    "import pandas\n",
    "import numpy as np\n",
    "import catboost as cb\n",
    "\n",
    "from sklearn.model_selection import KFold, train_test_split, RandomizedSearchCV"
   ]
  },
  {
   "cell_type": "code",
   "execution_count": null,
   "metadata": {},
   "outputs": [],
   "source": [
    "# read in the train and test data from csv files\n",
    "file_name = 'data.csv'\n",
    "colnames = ['col1','col2','col3','col4','label']\n",
    "category_cols = ['col2','col2']\n",
    "\n",
    "LABEL = 'label'\n",
    "TASK = 'CPU'\n",
    "TYPE = 'classification' # [classification, regression, multiclass]\n",
    "SPLIT = 0.3"
   ]
  },
  {
   "cell_type": "code",
   "execution_count": null,
   "metadata": {},
   "outputs": [],
   "source": [
    "data = pandas.read_csv(file_name, usecols=colnames)\n",
    "data.head()"
   ]
  },
  {
   "cell_type": "code",
   "execution_count": null,
   "metadata": {},
   "outputs": [],
   "source": [
    "\n",
    "# convert categorical columns to integers\n",
    "cat_dims = [data.columns.get_loc(i) for i in category_cols[:-1]] \n",
    "for header in category_cols:\n",
    "    data[header] = data[header].astype('category').cat.codes\n",
    "\n",
    "X = data.drop(LABEL, axis=1)\n",
    "Y = data[LABEL]\n",
    "train_x, test_x, train_y, test_y = train_test_split(X, Y, test_size=SPLIT)\n",
    "\n",
    "train_pool = cb.Pool(train_x, label=train_y, cat_features=category_cols)\n",
    "test_pool = cb.Pool(test_x, label=test_y, cat_features=category_cols)"
   ]
  },
  {
   "cell_type": "code",
   "execution_count": null,
   "metadata": {},
   "outputs": [],
   "source": [
    "if TYPE == 'regression':\n",
    "    loss = 'MAE'\n",
    "    eval = ['RMSE', 'MAPE', 'MAE', 'R2']\n",
    "elif TYPE == 'classification':\n",
    "    loss = 'Logloss'\n",
    "    eval = ['Logloss', 'CrossEntropy', 'Precision', 'Recall', 'F1', 'Accuracy', 'AUC']\n",
    "elif TYPE == 'multiclass':\n",
    "    loss = 'MultiClass'\n",
    "    eval = ['MultiClass', 'MultiClassOneVsAll', 'Precision', 'Recall', 'F1', 'Accuracy', 'AUC']\n",
    "\n",
    "params = {'depth':[3,1,2,6,4,5,7,8,9,10],\n",
    "          'iterations':[50,100,250,500,1000],\n",
    "          'learning_rate':[0.03,0.001,0.01,0.1,0.2,0.3], \n",
    "          'l2_leaf_reg':[3,1,5,10,50],\n",
    "          'border_count':[32,5,10,20,50,100,200],\n",
    "          'ctr_border_count':[50,5,10,20,100,200]\n",
    "          }"
   ]
  },
  {
   "cell_type": "code",
   "execution_count": null,
   "metadata": {
    "tags": []
   },
   "outputs": [],
   "source": [
    "model = cb.CatBoost({\n",
    "            'thread_count':-1, \n",
    "            'task_type': TASK,\n",
    "            'loss_function': loss,\n",
    "            'eval_metric': eval\n",
    "})\n",
    "\n",
    "search_result = model.randomized_search(params, train_pool, n_iter=100, cv=3, plot=True)"
   ]
  },
  {
   "cell_type": "code",
   "execution_count": null,
   "metadata": {},
   "outputs": [],
   "source": [
    "search_result['cv_results']"
   ]
  },
  {
   "cell_type": "code",
   "execution_count": null,
   "metadata": {},
   "outputs": [],
   "source": [
    "best = search_result['params']\n",
    "best"
   ]
  },
  {
   "cell_type": "code",
   "execution_count": null,
   "metadata": {},
   "outputs": [],
   "source": [
    "model.set_params(**best)\n",
    "model.fit(train_pool, plot=True)"
   ]
  },
  {
   "cell_type": "code",
   "execution_count": null,
   "metadata": {},
   "outputs": [],
   "source": [
    "results = model.eval_metrics(test_pool, eval)\n",
    "for i, r in zip(eval, results):\n",
    "    print(e, r)"
   ]
  },
  {
   "cell_type": "code",
   "execution_count": null,
   "metadata": {},
   "outputs": [],
   "source": []
  }
 ]
}