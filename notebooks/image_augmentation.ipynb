{
 "metadata": {
  "language_info": {
   "codemirror_mode": {
    "name": "ipython",
    "version": 3
   },
   "file_extension": ".py",
   "mimetype": "text/x-python",
   "name": "python",
   "nbconvert_exporter": "python",
   "pygments_lexer": "ipython3",
   "version": 3
  },
  "orig_nbformat": 2
 },
 "nbformat": 4,
 "nbformat_minor": 2,
 "cells": [
  {
   "cell_type": "code",
   "execution_count": null,
   "metadata": {},
   "outputs": [],
   "source": [
    "import os\n",
    "import shutil\n",
    "import time\n",
    "import random\n",
    "from  PIL import Image, ImageFilter, ImageEnhance \n",
    "\n",
    "from tqdm.auto import tqdm"
   ]
  },
  {
   "cell_type": "code",
   "execution_count": null,
   "metadata": {},
   "outputs": [],
   "source": [
    "LIMIT = 20\n",
    "IM_SIZE = 512\n",
    "\n",
    "relative_image_directory = \"data/train/\"\n",
    "output_dir = \"data/train/augmented_\"\n",
    "zip_dir = \"data/train/zipped_\""
   ]
  },
  {
   "cell_type": "markdown",
   "metadata": {},
   "source": [
    "extract images and classes"
   ]
  },
  {
   "cell_type": "code",
   "execution_count": null,
   "metadata": {},
   "outputs": [],
   "source": [
    "classes = [\n",
    "    (x)\n",
    "    for x in os.listdir(relative_image_directory)\n",
    "]\n",
    "all_images = {}\n",
    "for c in classes:\n",
    "    images = [\n",
    "        (x)\n",
    "        for x in os.listdir(relative_image_directory + c)\n",
    "    ]\n",
    "    all_images[c] = images\n"
   ]
  },
  {
   "cell_type": "markdown",
   "metadata": {},
   "source": [
    "clean and validate folders"
   ]
  },
  {
   "cell_type": "code",
   "execution_count": null,
   "metadata": {},
   "outputs": [],
   "source": [
    "if not os.path.exists(output_dir ):\n",
    "    os.mkdir(output_dir )\n",
    "else: \n",
    "    shutil.rmtree(output_dir)\n",
    "    time.sleep(3)\n",
    "    os.mkdir(output_dir )\n",
    "\n",
    "if not os.path.exists(zip_dir ):\n",
    "    os.mkdir(zip_dir )\n",
    "else: \n",
    "    shutil.rmtree(zip_dir)\n",
    "    time.sleep(3)\n",
    "    os.mkdir(zip_dir )"
   ]
  },
  {
   "cell_type": "markdown",
   "metadata": {},
   "source": [
    "## Augmentation"
   ]
  },
  {
   "cell_type": "code",
   "execution_count": null,
   "metadata": {},
   "outputs": [],
   "source": [
    "for c in classes:\n",
    "    if not os.path.exists(output_dir + str(c) + \"/\"):\n",
    "        os.mkdir(output_dir + str(c) + \"/\")\n",
    "\n",
    "for k in all_images:\n",
    "    if len(all_images[k]) > sample_limit:\n",
    "        imgs = random.sample(all_images[k], LIMIT)\n",
    "    else:\n",
    "        imgs = all_images[k]\n",
    "\n",
    "    for i in tqdm(imgs, desc=k):\n",
    "        img = Image.open(relative_image_directory + k  + '/' + i)\n",
    "        img = img.resize((int(IM_SIZE), int(IM_SIZE))).filter(ImageFilter.SHARPEN)\n",
    "        \n",
    "        blurred = img.filter(ImageFilter.BoxBlur(5))\n",
    "        sharpened = img.filter(ImageFilter.SHARPEN).filter(ImageFilter.SHARPEN)\n",
    "        flipped = img.transpose(Image.FLIP_LEFT_RIGHT)\n",
    "        enhancer = ImageEnhance.Brightness(img)\n",
    "\n",
    "        darker = enhancer.enhance(0.75)\n",
    "        brighter = enhancer.enhance(1.25)\n",
    "\n",
    "        fb = flipped.filter(ImageFilter.BoxBlur(5))\n",
    "        sf = sharpened.transpose(Image.FLIP_LEFT_RIGHT)\n",
    "        df = darker.transpose(Image.FLIP_LEFT_RIGHT)\n",
    "        bf = brighter.transpose(Image.FLIP_LEFT_RIGHT)\n",
    "        \n",
    "        img.save(output_dir + k + '/' + i[:-4] + '.jpg')\n",
    "        blurred.save(output_dir + k + '/' + i[:-4] + 'b'  + '.jpg')\n",
    "        sharpened.save(output_dir + k + '/' + i[:-4] + 's' + '.jpg')\n",
    "        flipped.save(output_dir + k + '/' + i[:-4] + 'f' + '.jpg')\n",
    "        darker.save(output_dir + k + '/' + i[:-4] + 'd' + '.jpg')\n",
    "        brighter.save(output_dir + k + '/' + i[:-4] + 'bi' + '.jpg')\n",
    "\n",
    "        fb.save(output_dir + k + '/' + i[:-4] + 'fb' + '.jpg')\n",
    "        sf.save(output_dir + k + '/' + i[:-4] + 'sf' + '.jpg')\n",
    "        df.save(output_dir + k + '/' + i[:-4] + 'df' + '.jpg')\n",
    "        bf.save(output_dir + k + '/' + i[:-4] + 'bf' + '.jpg')\n",
    "        \n",
    "    shutil.make_archive(zip_dir + k, 'zip', output_dir + k)"
   ]
  },
  {
   "cell_type": "code",
   "execution_count": null,
   "metadata": {},
   "outputs": [],
   "source": []
  },
  {
   "cell_type": "code",
   "execution_count": null,
   "metadata": {},
   "outputs": [],
   "source": []
  }
 ]
}