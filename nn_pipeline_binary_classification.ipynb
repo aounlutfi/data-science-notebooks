{
 "cells": [
  {
   "cell_type": "code",
   "execution_count": null,
   "metadata": {},
   "outputs": [],
   "source": [
    "import joblib\n",
    "import tarfile\n",
    "import os, shutil\n",
    "\n",
    "import pandas as pd\n",
    "import numpy as np\n",
    "import seaborn as sns\n",
    "import matplotlib.pyplot as plt\n",
    "\n",
    "from tensorflow.keras.models import Sequential, load_model\n",
    "from tensorflow.keras.layers import Dense\n",
    "from tensorflow.keras.wrappers.scikit_learn import KerasClassifier\n",
    "\n",
    "from sklearn.model_selection import train_test_split\n",
    "from sklearn.pipeline import Pipeline\n",
    "from sklearn.preprocessing import OneHotEncoder\n",
    "from sklearn.metrics import classification_report, accuracy_score, confusion_matrix\n",
    "\n",
    "fname = 'data.csv'\n",
    "model_name = 'model'\n",
    "label = 'LABEL'"
   ]
  },
  {
   "cell_type": "code",
   "execution_count": null,
   "metadata": {},
   "outputs": [],
   "source": [
    "df = pd.read_csv(fname)\n",
    "df.fillna('', inplace=True)"
   ]
  },
  {
   "cell_type": "markdown",
   "metadata": {},
   "source": [
    "### Preparing the data\n"
   ]
  },
  {
   "cell_type": "code",
   "execution_count": null,
   "metadata": {},
   "outputs": [],
   "source": [
    "test_size = 0.3\n",
    "epochs = 5\n",
    "batch_size = 32"
   ]
  },
  {
   "cell_type": "markdown",
   "metadata": {},
   "source": [
    "Create test and train sets. Split into data + labels. "
   ]
  },
  {
   "cell_type": "code",
   "execution_count": null,
   "metadata": {},
   "outputs": [],
   "source": [
    "y = data[label]\n",
    "x = data.drop(columns=[label])\n",
    "\n",
    "x_train, x_test, y_train, y_test = train_test_split(x, y, test_size=test_size) \n",
    "\n",
    "print('Train: {}'.format(x_train.shape))\n",
    "print('Test: {}'.format(x_test.shape))"
   ]
  },
  {
   "cell_type": "markdown",
   "metadata": {},
   "source": [
    "## Create Pipeline"
   ]
  },
  {
   "cell_type": "code",
   "execution_count": null,
   "metadata": {},
   "outputs": [],
   "source": [
    "def save_pipeline(pipeline, name='model'):      \n",
    "        \n",
    "    def make_tarfile(output_filename, source_dir):\n",
    "        with tarfile.open(output_filename, \"w:gz\") as tar:\n",
    "            tar.add(source_dir, arcname=os.path.basename(source_dir))\n",
    "\n",
    "    \n",
    "    os.makedirs('temp', exist_ok=True)\n",
    "    joblib.dump(pipeline.named_steps['encoder'], 'temp/encoder.joblib')\n",
    "    joblib.dump(pipeline.named_steps['classifier'].classes_, 'temp/classes.joblib')\n",
    "    pipeline.named_steps['classifier'].model.save('temp/model.h5')\n",
    "    make_tarfile(name+'.tar.gz', 'temp')\n",
    "    shutil.rmtree('temp')\n",
    "    \n",
    "    \n",
    "def load_pipeline(name='model'):\n",
    "    \n",
    "    tf = tarfile.open(name+'.tar.gz')\n",
    "    tf.extractall()\n",
    "    encoder = joblib.load('temp/encoder.joblib')\n",
    "    build_model = lambda: load_model('temp/model.h5')\n",
    "    classifier = KerasClassifier(build_fn=build_model, verbose=1)\n",
    "    classifier.classes_ = joblib.load('temp/classes.joblib')\n",
    "    classifier.model = build_model()\n",
    "    \n",
    "\n",
    "    pipeline = Pipeline(steps=[\n",
    "      ('encoder', encoder),\n",
    "      ('classifier', classifier)\n",
    "    ])\n",
    "\n",
    "    shutil.rmtree('temp')\n",
    "\n",
    "    return pipeline\n",
    "    \n",
    "\n",
    "def create_model(init='normal', act='relu', l='binary_crossentropy', opt='adam', m=['accuracy']):\n",
    "    model = Sequential()\n",
    "    model.add(Dense(100, kernel_initializer=init, activation=act))\n",
    "    model.add(Dense(1, kernel_initializer=init, activation='sigmoid'))\n",
    "\n",
    "    model.compile(loss=l, optimizer=opt, metrics=m)\n",
    "\n",
    "    return model\n"
   ]
  },
  {
   "cell_type": "code",
   "execution_count": null,
   "metadata": {},
   "outputs": [],
   "source": [
    "encoder = OneHotEncoder(handle_unknown='ignore', sparse=False)\n",
    "classifier = KerasClassifier(build_fn=create_model, verbose=1, epochs=epochs, batch_size=batch_size)"
   ]
  },
  {
   "cell_type": "code",
   "execution_count": null,
   "metadata": {},
   "outputs": [],
   "source": [
    "pipeline = Pipeline(steps=[\n",
    "  ('encoder', encoder),\n",
    "  ('classifier', classifier)\n",
    "])"
   ]
  },
  {
   "cell_type": "code",
   "execution_count": null,
   "metadata": {},
   "outputs": [],
   "source": [
    "pipeline.fit(x_train, y_train)"
   ]
  },
  {
   "cell_type": "code",
   "execution_count": null,
   "metadata": {},
   "outputs": [],
   "source": [
    "save_pipeline(pipeline, model_name)"
   ]
  },
  {
   "cell_type": "code",
   "execution_count": null,
   "metadata": {},
   "outputs": [],
   "source": [
    "p = load_pipeline(model_name)"
   ]
  },
  {
   "cell_type": "markdown",
   "metadata": {},
   "source": [
    "## Test the pipeline"
   ]
  },
  {
   "cell_type": "code",
   "execution_count": null,
   "metadata": {},
   "outputs": [],
   "source": [
    "predicted = p.predict(x_test)"
   ]
  },
  {
   "cell_type": "code",
   "execution_count": null,
   "metadata": {},
   "outputs": [],
   "source": [
    "actual = list(np.array(y_test))"
   ]
  },
  {
   "cell_type": "code",
   "execution_count": null,
   "metadata": {},
   "outputs": [],
   "source": [
    "acc = accuracy_score(actual, predicted)\n",
    "report = classification_report(actual, predicted, digits=3)\n",
    "cf = confusion_matrix(actual, predicted)"
   ]
  },
  {
   "cell_type": "code",
   "execution_count": null,
   "metadata": {},
   "outputs": [],
   "source": [
    "print(report)\n",
    "print(\"Accuracy\", acc)"
   ]
  },
  {
   "cell_type": "code",
   "execution_count": null,
   "metadata": {},
   "outputs": [],
   "source": [
    "sns.heatmap(cf, xticklabels=['No' + label, label], yticklabels=['No' + label, label], annot=True, fmt=\"d\")\n",
    "plt.title(\"Confusion matrix\")\n",
    "plt.ylabel('True Class')\n",
    "plt.xlabel('Predicted class')\n",
    "plt.show()"
   ]
  },
  {
   "cell_type": "code",
   "execution_count": null,
   "metadata": {},
   "outputs": [],
   "source": []
  }
 ],
 "metadata": {
  "kernelspec": {
   "display_name": "Python 3",
   "language": "python",
   "name": "python3"
  },
  "language_info": {
   "codemirror_mode": {
    "name": "ipython",
    "version": 3
   },
   "file_extension": ".py",
   "mimetype": "text/x-python",
   "name": "python",
   "nbconvert_exporter": "python",
   "pygments_lexer": "ipython3",
   "version": "3.7.3"
  }
 },
 "nbformat": 4,
 "nbformat_minor": 2
}
